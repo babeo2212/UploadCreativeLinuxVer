{
 "cells": [
  {
   "cell_type": "code",
   "execution_count": 19,
   "id": "552bbc5d",
   "metadata": {},
   "outputs": [],
   "source": [
    "from selenium import webdriver\n",
    "\n",
    "from selenium.webdriver.firefox.service import Service\n",
    "from webdriver_manager.firefox import GeckoDriverManager\n",
    "from selenium.webdriver.common.by import By\n",
    "from selenium.webdriver.support.ui import WebDriverWait\n",
    "from selenium.webdriver.support import expected_conditions as EC\n",
    "from selenium.webdriver.common.keys import Keys\n",
    "import os\n",
    "import sys"
   ]
  },
  {
   "cell_type": "code",
   "execution_count": 2,
   "id": "34d6d79a",
   "metadata": {},
   "outputs": [
    {
     "data": {
      "text/plain": [
       "'/home/mickeyvu0811/Documents/MyProjects/UpLoadCreative/Upload_env/bin:/home/mickeyvu0811/.local/bin:/usr/local/sbin:/usr/local/bin:/usr/sbin:/usr/bin:/sbin:/bin:/usr/games:/usr/local/games:/snap/bin:/snap/bin'"
      ]
     },
     "execution_count": 2,
     "metadata": {},
     "output_type": "execute_result"
    }
   ],
   "source": [
    "os.environ.get('PATH')"
   ]
  },
  {
   "cell_type": "code",
   "execution_count": 3,
   "id": "b57f71c9",
   "metadata": {},
   "outputs": [],
   "source": [
    "# print(sys._MEIPASS)"
   ]
  },
  {
   "cell_type": "code",
   "execution_count": 21,
   "id": "63e25e1a",
   "metadata": {},
   "outputs": [],
   "source": [
    "# service = Service(executable_path=\"./driver/geckodriver\")\n",
    "# install_dir = \"/snap/firefox/current/usr/lib/firefox\"\n",
    "# driver_loc = os.path.join(install_dir, \"geckodriver\")\n",
    "# binary_loc = os.path.join(install_dir, \"firefox\")\n",
    "\n",
    "# service = Service(driver_loc)\n",
    "# opts = webdriver.FirefoxOptions()\n",
    "# opts.binary_location = binary_loc\n",
    "# driver = webdriver.Firefox(service=service, options=opts)"
   ]
  },
  {
   "cell_type": "code",
   "execution_count": 22,
   "id": "9163f6e8",
   "metadata": {},
   "outputs": [],
   "source": [
    "# driver.get(\"https://www.google.com/\")"
   ]
  },
  {
   "cell_type": "code",
   "execution_count": 4,
   "id": "7b82ea64",
   "metadata": {},
   "outputs": [],
   "source": [
    "# Chrome driver\n",
    "import time\n",
    "from selenium import webdriver\n",
    "from selenium.webdriver.chrome.options import Options\n",
    "from selenium.webdriver.chrome.service import Service\n",
    "from selenium.webdriver.common.by import By\n",
    "from selenium.webdriver.common.keys import Keys\n",
    "from webdriver_manager.chrome import ChromeDriverManager\n",
    "from selenium.webdriver.support import expected_conditions as EC"
   ]
  },
  {
   "cell_type": "code",
   "execution_count": 5,
   "id": "bf792a54",
   "metadata": {},
   "outputs": [],
   "source": [
    "options = Options()\n",
    "# options.add_argument(\"--headless=new\")\n",
    "\n",
    "options.page_load_strategy = 'normal'\n",
    "# options.add_argument('--no-sandbox')\n",
    "options.add_argument('--disable-dev-shm-usage')"
   ]
  },
  {
   "cell_type": "code",
   "execution_count": 6,
   "id": "aec32cb0",
   "metadata": {},
   "outputs": [
    {
     "name": "stderr",
     "output_type": "stream",
     "text": [
      "[WDM] - Downloading: 100%|████████████████████████████████████████████████████████████████████████████████████████████████████████████████████████████████████████████| 6.75M/6.75M [00:04<00:00, 1.45MB/s]\n"
     ]
    }
   ],
   "source": [
    "browser = webdriver.Chrome(service=Service(ChromeDriverManager().install()), options=options)"
   ]
  },
  {
   "cell_type": "code",
   "execution_count": 7,
   "id": "dda40ce0",
   "metadata": {},
   "outputs": [],
   "source": [
    "browser.get('https://www.creativefabrica.com/login/')\n",
    "browser.implicitly_wait(10)"
   ]
  },
  {
   "cell_type": "code",
   "execution_count": 8,
   "id": "b29a2e31",
   "metadata": {},
   "outputs": [],
   "source": [
    "# WebDriverWait(browser, 10).until(\n",
    "#     EC.presence_of_all_elements_located((By.PARTIAL_LINK_TEXT, 'Next page'))\n",
    "# )"
   ]
  },
  {
   "cell_type": "code",
   "execution_count": 9,
   "id": "e34422ee",
   "metadata": {},
   "outputs": [],
   "source": [
    "i_email = browser.find_element(By.XPATH, \"//input[@type='email']\")\n",
    "i_email.send_keys(\"equihuadino935632@gmail.com\")"
   ]
  },
  {
   "cell_type": "code",
   "execution_count": 10,
   "id": "743ad0cc",
   "metadata": {},
   "outputs": [],
   "source": [
    "i_pass = browser.find_element(By.XPATH, \"//input[@type='password']\")\n",
    "i_pass.send_keys(\"9ABXvC%T5s4aE\")"
   ]
  },
  {
   "cell_type": "code",
   "execution_count": 11,
   "id": "bb711138",
   "metadata": {},
   "outputs": [],
   "source": [
    "b_submit = browser.find_element(By.XPATH, \"//button[@type='submit']\")\n",
    "b_submit.send_keys(Keys.ENTER)"
   ]
  },
  {
   "cell_type": "code",
   "execution_count": 12,
   "id": "f9496350",
   "metadata": {},
   "outputs": [],
   "source": [
    "b_cancle = browser.find_element(By.XPATH, \"//button[@id='onesignal-slidedown-cancel-button']\")\n",
    "b_cancle.send_keys(Keys.ENTER)"
   ]
  },
  {
   "cell_type": "code",
   "execution_count": 13,
   "id": "3a7b47db",
   "metadata": {},
   "outputs": [
    {
     "data": {
      "text/plain": [
       "'My Account - Creative Fabrica'"
      ]
     },
     "execution_count": 13,
     "metadata": {},
     "output_type": "execute_result"
    }
   ],
   "source": [
    "browser.title"
   ]
  },
  {
   "cell_type": "code",
   "execution_count": 16,
   "id": "b39a5adf",
   "metadata": {},
   "outputs": [],
   "source": [
    "l_addGrapic = browser.find_element(By.LINK_TEXT, \"Add Graphic\")"
   ]
  },
  {
   "cell_type": "code",
   "execution_count": 17,
   "id": "08bbf779",
   "metadata": {},
   "outputs": [],
   "source": [
    "l_addGrapic.click()"
   ]
  },
  {
   "cell_type": "code",
   "execution_count": 18,
   "id": "91aea9f5",
   "metadata": {},
   "outputs": [],
   "source": [
    "# Input product name\n",
    "i_productName = browser.find_element(By.XPATH, \"//input[@id='title'][@name='title']\")"
   ]
  },
  {
   "cell_type": "code",
   "execution_count": 19,
   "id": "5ccbd877",
   "metadata": {},
   "outputs": [],
   "source": [
    "i_productName.send_keys(\"Product Name\")"
   ]
  },
  {
   "cell_type": "code",
   "execution_count": 20,
   "id": "2556a53f",
   "metadata": {},
   "outputs": [],
   "source": [
    "# Input category\n",
    "i_category = browser.find_element(By.XPATH, \"//span[@role='combobox']\")"
   ]
  },
  {
   "cell_type": "code",
   "execution_count": 21,
   "id": "7fd4b474",
   "metadata": {},
   "outputs": [],
   "source": [
    "i_category.click()"
   ]
  },
  {
   "cell_type": "code",
   "execution_count": 22,
   "id": "c746f35f",
   "metadata": {},
   "outputs": [],
   "source": [
    "i_categoryInput = browser.find_element(By.XPATH, \"//input[@type='search']\")"
   ]
  },
  {
   "cell_type": "code",
   "execution_count": 23,
   "id": "fd516945",
   "metadata": {},
   "outputs": [],
   "source": [
    "i_categoryInput.send_keys(\"Crafts\")"
   ]
  },
  {
   "cell_type": "code",
   "execution_count": 24,
   "id": "c94aa9e9",
   "metadata": {},
   "outputs": [],
   "source": [
    "# do this\n",
    "li_categoryInput = browser.find_elements(By.XPATH, \"//li[@role='treeitem']\")"
   ]
  },
  {
   "cell_type": "code",
   "execution_count": 25,
   "id": "75a4b027",
   "metadata": {},
   "outputs": [
    {
     "data": {
      "text/plain": [
       "[<selenium.webdriver.remote.webelement.WebElement (session=\"2b82a406f55d11d44c6d1d559ae1b615\", element=\"346f3a35-ef8b-4c9f-a491-486efa601e01\")>]"
      ]
     },
     "execution_count": 25,
     "metadata": {},
     "output_type": "execute_result"
    }
   ],
   "source": [
    "li_categoryInput"
   ]
  },
  {
   "cell_type": "code",
   "execution_count": 26,
   "id": "6ada990d",
   "metadata": {},
   "outputs": [],
   "source": [
    "# Or\n",
    "i_categoryInput.send_keys(Keys.ENTER)"
   ]
  },
  {
   "cell_type": "code",
   "execution_count": 27,
   "id": "4205bc7b",
   "metadata": {},
   "outputs": [],
   "source": [
    "# Input Price\n",
    "i_price = browser.find_element(By.XPATH, \"//input[@id='price'][@name='price']\")"
   ]
  },
  {
   "cell_type": "code",
   "execution_count": 28,
   "id": "19db975e",
   "metadata": {},
   "outputs": [],
   "source": [
    "i_price.send_keys(\"3\")"
   ]
  },
  {
   "cell_type": "code",
   "execution_count": 29,
   "id": "828f33c8",
   "metadata": {},
   "outputs": [],
   "source": [
    "# Input Description\n",
    "i_description = browser.find_element(By.XPATH, \"//textarea[@name='description'][@id='description']\")"
   ]
  },
  {
   "cell_type": "code",
   "execution_count": 30,
   "id": "dd908997",
   "metadata": {},
   "outputs": [],
   "source": [
    "i_description.send_keys(\"aklasdjfaslkdfasjkflaskdjfhlaksjh\")"
   ]
  },
  {
   "cell_type": "code",
   "execution_count": 31,
   "id": "e6036d90",
   "metadata": {},
   "outputs": [],
   "source": [
    "# Input Product Tags\n",
    "i_productTag = browser.find_element(By.XPATH, \"//input[@name='tags'][@id='tags']\")"
   ]
  },
  {
   "cell_type": "code",
   "execution_count": 32,
   "id": "28ff6fcc",
   "metadata": {},
   "outputs": [],
   "source": [
    "i_productTag = browser.find_element(By.XPATH, \"//div[@class='bootstrap-tagsinput']/input[@type='text']\")\n"
   ]
  },
  {
   "cell_type": "code",
   "execution_count": 33,
   "id": "cbc43788",
   "metadata": {},
   "outputs": [],
   "source": [
    "i_productTag.send_keys(\"A\" + Keys.ENTER)"
   ]
  },
  {
   "cell_type": "code",
   "execution_count": 34,
   "id": "46aa8a59",
   "metadata": {},
   "outputs": [],
   "source": [
    "i_productTag.send_keys(\"B\" + Keys.ENTER)"
   ]
  },
  {
   "cell_type": "code",
   "execution_count": 35,
   "id": "14ed8228",
   "metadata": {},
   "outputs": [],
   "source": [
    "i_productTag.send_keys(\"E\" + Keys.ENTER)"
   ]
  },
  {
   "cell_type": "code",
   "execution_count": 40,
   "id": "8a9a9bb1",
   "metadata": {},
   "outputs": [],
   "source": [
    "# This method needs to loop each time we upload one picture\n",
    "u_productImages = browser.find_element(By.XPATH, \"//input[@type='file'][@name='product_images[]']\")"
   ]
  },
  {
   "cell_type": "code",
   "execution_count": 37,
   "id": "c2fd59fc",
   "metadata": {},
   "outputs": [],
   "source": [
    "u_productImages.send_keys('/home/mickeyvu0811/Downloads/images/95327839_3254238011293902_6515005431394336768_n.jpg')"
   ]
  },
  {
   "cell_type": "code",
   "execution_count": 42,
   "id": "aa679f6c",
   "metadata": {},
   "outputs": [],
   "source": [
    "# pop-ups windows\n",
    "alert = browser.switch_to.alert\n",
    "alert.accept()"
   ]
  },
  {
   "cell_type": "code",
   "execution_count": 41,
   "id": "6bb5dc62",
   "metadata": {},
   "outputs": [],
   "source": [
    "u_productImages.send_keys('/home/mickeyvu0811/Downloads/images/FthbhOCXgAs0mcX.jpg')"
   ]
  },
  {
   "cell_type": "code",
   "execution_count": 61,
   "id": "5ad73b1b",
   "metadata": {},
   "outputs": [],
   "source": []
  },
  {
   "cell_type": "code",
   "execution_count": 88,
   "id": "cf919875",
   "metadata": {},
   "outputs": [],
   "source": [
    "# Upload Product Files (zip)\n",
    "u_productFileZip = browser.find_element(By.XPATH, \"//input[@type='file'][@name='product_files']\")"
   ]
  },
  {
   "cell_type": "code",
   "execution_count": 89,
   "id": "f0ed150c",
   "metadata": {},
   "outputs": [],
   "source": [
    "u_productFileZip.send_keys('/home/mickeyvu0811/Downloads/audio Listening 2 Final handout.zip')"
   ]
  },
  {
   "cell_type": "code",
   "execution_count": 64,
   "id": "05f2feff",
   "metadata": {},
   "outputs": [],
   "source": [
    "for _ in range(0, 25):\n",
    "    browser.find_element(By.TAG_NAME, \"html\").send_keys(Keys.DOWN)"
   ]
  },
  {
   "cell_type": "code",
   "execution_count": 46,
   "id": "4aac58ee",
   "metadata": {},
   "outputs": [],
   "source": [
    "# Checkbox Discount detail\n",
    "i_discountDetail = browser.find_element(By.XPATH, \"//input[@type='checkbox'][@name='in_discount_deals']\")"
   ]
  },
  {
   "cell_type": "code",
   "execution_count": 47,
   "id": "ebf954b9",
   "metadata": {},
   "outputs": [],
   "source": [
    "i_discountDetail.click()"
   ]
  },
  {
   "cell_type": "code",
   "execution_count": 48,
   "id": "84c81569",
   "metadata": {},
   "outputs": [],
   "source": [
    "# Checkbox Pick n Mix\n",
    "i_pickNMix = browser.find_element(By.XPATH, \"//input[@type='checkbox'][@name='in_byob']\")"
   ]
  },
  {
   "cell_type": "code",
   "execution_count": 49,
   "id": "b30cfc59",
   "metadata": {},
   "outputs": [],
   "source": [
    "i_pickNMix.click()"
   ]
  },
  {
   "cell_type": "code",
   "execution_count": 44,
   "id": "6dc59de8",
   "metadata": {},
   "outputs": [],
   "source": [
    "# Checkbox Term and Conditions\n",
    "i_termNCond = browser.find_element(By.XPATH, \"//ins[@class='iCheck-helper']\")"
   ]
  },
  {
   "cell_type": "code",
   "execution_count": 45,
   "id": "a144a3f6",
   "metadata": {},
   "outputs": [],
   "source": [
    "i_termNCond.click()"
   ]
  },
  {
   "cell_type": "code",
   "execution_count": null,
   "id": "28cc5646",
   "metadata": {},
   "outputs": [],
   "source": [
    "# click submit form\n",
    "b_submit = browser.find_element(By.XPATH, \"//button[@type='submit'][@name='submitbutton']\")\n"
   ]
  },
  {
   "cell_type": "code",
   "execution_count": null,
   "id": "f14c6daa",
   "metadata": {},
   "outputs": [],
   "source": [
    "b_submit.send_keys(Keys.ENTER)"
   ]
  },
  {
   "cell_type": "code",
   "execution_count": 53,
   "id": "620d8180",
   "metadata": {},
   "outputs": [],
   "source": [
    "browser.quit()"
   ]
  },
  {
   "cell_type": "code",
   "execution_count": null,
   "id": "68e65c10",
   "metadata": {},
   "outputs": [],
   "source": [
    "# Just in case we need to enter\n",
    "i_opt = browser.find_element(By.XPATH, \"//input[@name='otp']\")"
   ]
  },
  {
   "cell_type": "code",
   "execution_count": 4,
   "id": "9894056f",
   "metadata": {},
   "outputs": [],
   "source": [
    "import tkinter as tk\n",
    "from tkinter import filedialog"
   ]
  },
  {
   "cell_type": "code",
   "execution_count": 5,
   "id": "6995d2ad",
   "metadata": {},
   "outputs": [],
   "source": [
    "import pandas as pd"
   ]
  },
  {
   "cell_type": "code",
   "execution_count": 6,
   "id": "d4f08ae5",
   "metadata": {},
   "outputs": [],
   "source": [
    "root = tk.Tk()\n",
    "root.withdraw()\n",
    "# Open file reader\n",
    "files = filedialog.askopenfilename(title='Import file excel')"
   ]
  },
  {
   "cell_type": "code",
   "execution_count": 7,
   "id": "126ad288",
   "metadata": {},
   "outputs": [
    {
     "data": {
      "text/plain": [
       "'/home/mickeyvu0811/Documents/MyProjects/UpLoadCreative/Test/sample cf.xlsx'"
      ]
     },
     "execution_count": 7,
     "metadata": {},
     "output_type": "execute_result"
    }
   ],
   "source": [
    "files"
   ]
  },
  {
   "cell_type": "code",
   "execution_count": 9,
   "id": "142ee1b4",
   "metadata": {},
   "outputs": [],
   "source": [
    "file = pd.read_excel(files)"
   ]
  },
  {
   "cell_type": "code",
   "execution_count": 10,
   "id": "a526c83f",
   "metadata": {},
   "outputs": [
    {
     "data": {
      "text/plain": [
       "2"
      ]
     },
     "execution_count": 10,
     "metadata": {},
     "output_type": "execute_result"
    }
   ],
   "source": [
    "file.shape[0]"
   ]
  },
  {
   "cell_type": "code",
   "execution_count": 11,
   "id": "7f3358e1",
   "metadata": {},
   "outputs": [
    {
     "data": {
      "text/plain": [
       "Index(['ID', 'title', 'description', 'Price', 'Category', 'tag'], dtype='object')"
      ]
     },
     "execution_count": 11,
     "metadata": {},
     "output_type": "execute_result"
    }
   ],
   "source": [
    "file.columns"
   ]
  },
  {
   "cell_type": "code",
   "execution_count": 25,
   "id": "48ef74cf",
   "metadata": {},
   "outputs": [
    {
     "data": {
      "text/plain": [
       "['tumbler', ' tumbler new', ' stained tumbler']"
      ]
     },
     "execution_count": 25,
     "metadata": {},
     "output_type": "execute_result"
    }
   ],
   "source": [
    "file.iloc[0, 5].split(\",\")"
   ]
  },
  {
   "cell_type": "code",
   "execution_count": 21,
   "id": "bbceef2b",
   "metadata": {},
   "outputs": [],
   "source": [
    "data = filedialog.askdirectory()"
   ]
  },
  {
   "cell_type": "code",
   "execution_count": 22,
   "id": "f3f93cf9",
   "metadata": {},
   "outputs": [
    {
     "data": {
      "text/plain": [
       "'/home/mickeyvu0811/Documents/MyProjects/UpLoadCreative/Test/data'"
      ]
     },
     "execution_count": 22,
     "metadata": {},
     "output_type": "execute_result"
    }
   ],
   "source": [
    "data"
   ]
  },
  {
   "cell_type": "code",
   "execution_count": 23,
   "id": "0b546aa2",
   "metadata": {},
   "outputs": [
    {
     "data": {
      "text/plain": [
       "['5', '1', '4', '2', '3']"
      ]
     },
     "execution_count": 23,
     "metadata": {},
     "output_type": "execute_result"
    }
   ],
   "source": [
    "os.listdir(data)"
   ]
  },
  {
   "cell_type": "code",
   "execution_count": 36,
   "id": "b94f059b",
   "metadata": {},
   "outputs": [],
   "source": [
    "listOfSKUs = [os.path.join(data, f) for f in os.listdir(data)]"
   ]
  },
  {
   "cell_type": "code",
   "execution_count": 37,
   "id": "58207c59",
   "metadata": {},
   "outputs": [
    {
     "data": {
      "text/plain": [
       "['/home/mickeyvu0811/Documents/MyProjects/UpLoadCreative/Test/data/5',\n",
       " '/home/mickeyvu0811/Documents/MyProjects/UpLoadCreative/Test/data/1',\n",
       " '/home/mickeyvu0811/Documents/MyProjects/UpLoadCreative/Test/data/4',\n",
       " '/home/mickeyvu0811/Documents/MyProjects/UpLoadCreative/Test/data/2',\n",
       " '/home/mickeyvu0811/Documents/MyProjects/UpLoadCreative/Test/data/3']"
      ]
     },
     "execution_count": 37,
     "metadata": {},
     "output_type": "execute_result"
    }
   ],
   "source": [
    "listOfSKUs"
   ]
  },
  {
   "cell_type": "code",
   "execution_count": 1,
   "id": "4c966462",
   "metadata": {},
   "outputs": [],
   "source": [
    "data1 = '/home/mickeyvu0811/Documents/MyProjects/UpLoadCreative/Test/data/1'"
   ]
  },
  {
   "cell_type": "code",
   "execution_count": 2,
   "id": "db48fba2",
   "metadata": {},
   "outputs": [],
   "source": [
    "import os"
   ]
  },
  {
   "cell_type": "code",
   "execution_count": 9,
   "id": "abc8ecdf",
   "metadata": {},
   "outputs": [
    {
     "name": "stdout",
     "output_type": "stream",
     "text": [
      "TASP18082010.zip\n",
      "TASP18082010b.png\n",
      "TASP18082010a.png\n"
     ]
    }
   ],
   "source": [
    "pictures = []\n",
    "for f in os.listdir(data1):\n",
    "    print(f)\n",
    "    _, exten = os.path.splitext(f)\n",
    "    if exten == \".jpg\" or exten == \".png\":\n",
    "        fileName = os.path.join(data1, f)\n",
    "        pictures.append(fileName)\n",
    "    else:\n",
    "        zipfile = os.path.join(data1, f)"
   ]
  },
  {
   "cell_type": "code",
   "execution_count": 8,
   "id": "d5e28f89",
   "metadata": {},
   "outputs": [
    {
     "data": {
      "text/plain": [
       "['TASP18082010.zip', 'TASP18082010b.png', 'TASP18082010a.png']"
      ]
     },
     "execution_count": 8,
     "metadata": {},
     "output_type": "execute_result"
    }
   ],
   "source": [
    "os.listdir(data1)"
   ]
  },
  {
   "cell_type": "code",
   "execution_count": 10,
   "id": "d8331275",
   "metadata": {},
   "outputs": [
    {
     "data": {
      "text/plain": [
       "['/home/mickeyvu0811/Documents/MyProjects/UpLoadCreative/Test/data/1/TASP18082010b.png',\n",
       " '/home/mickeyvu0811/Documents/MyProjects/UpLoadCreative/Test/data/1/TASP18082010a.png']"
      ]
     },
     "execution_count": 10,
     "metadata": {},
     "output_type": "execute_result"
    }
   ],
   "source": [
    "pictures"
   ]
  },
  {
   "cell_type": "code",
   "execution_count": 11,
   "id": "b14fe038",
   "metadata": {},
   "outputs": [
    {
     "data": {
      "text/plain": [
       "'/home/mickeyvu0811/Documents/MyProjects/UpLoadCreative/Test/data/1/TASP18082010.zip'"
      ]
     },
     "execution_count": 11,
     "metadata": {},
     "output_type": "execute_result"
    }
   ],
   "source": [
    "zipfile"
   ]
  },
  {
   "cell_type": "code",
   "execution_count": 2,
   "id": "fd0bc292",
   "metadata": {},
   "outputs": [
    {
     "data": {
      "text/plain": [
       "True"
      ]
     },
     "execution_count": 2,
     "metadata": {},
     "output_type": "execute_result"
    }
   ],
   "source": [
    "not a"
   ]
  },
  {
   "cell_type": "code",
   "execution_count": 35,
   "id": "3b650cc3",
   "metadata": {},
   "outputs": [
    {
     "data": {
      "text/plain": [
       "['mockup test.jpg']"
      ]
     },
     "execution_count": 35,
     "metadata": {},
     "output_type": "execute_result"
    }
   ],
   "source": [
    "pictures"
   ]
  },
  {
   "cell_type": "code",
   "execution_count": 30,
   "id": "e0092a7a",
   "metadata": {},
   "outputs": [
    {
     "data": {
      "text/plain": [
       "<generator object _walk at 0x7f9fcf72c3c0>"
      ]
     },
     "execution_count": 30,
     "metadata": {},
     "output_type": "execute_result"
    }
   ],
   "source": [
    "os.walk(data1)"
   ]
  },
  {
   "cell_type": "code",
   "execution_count": 31,
   "id": "65738851",
   "metadata": {},
   "outputs": [
    {
     "name": "stdout",
     "output_type": "stream",
     "text": [
      "/home/mickeyvu0811/Documents/MyProjects/UpLoadCreative/Test/data/1 [] ['mockup test.jpg', 'sp test.zip']\n"
     ]
    }
   ],
   "source": [
    "for a, b, c in os.walk(data1):\n",
    "    print(a, b, c)"
   ]
  },
  {
   "cell_type": "code",
   "execution_count": 1,
   "id": "f863853e",
   "metadata": {},
   "outputs": [],
   "source": [
    "import pandas as pd"
   ]
  },
  {
   "cell_type": "code",
   "execution_count": 21,
   "id": "7b86d157",
   "metadata": {},
   "outputs": [],
   "source": [
    "data = pd.read_excel(\"/home/mickeyvu0811/Documents/MyProjects/UpLoadCreative/Test/sample cf.xlsx\")"
   ]
  },
  {
   "cell_type": "code",
   "execution_count": 22,
   "id": "f788fab6",
   "metadata": {},
   "outputs": [
    {
     "data": {
      "text/html": [
       "<div>\n",
       "<style scoped>\n",
       "    .dataframe tbody tr th:only-of-type {\n",
       "        vertical-align: middle;\n",
       "    }\n",
       "\n",
       "    .dataframe tbody tr th {\n",
       "        vertical-align: top;\n",
       "    }\n",
       "\n",
       "    .dataframe thead th {\n",
       "        text-align: right;\n",
       "    }\n",
       "</style>\n",
       "<table border=\"1\" class=\"dataframe\">\n",
       "  <thead>\n",
       "    <tr style=\"text-align: right;\">\n",
       "      <th></th>\n",
       "      <th>ID</th>\n",
       "      <th>title</th>\n",
       "      <th>description</th>\n",
       "      <th>Price</th>\n",
       "      <th>Category</th>\n",
       "      <th>tag</th>\n",
       "    </tr>\n",
       "  </thead>\n",
       "  <tbody>\n",
       "    <tr>\n",
       "      <th>0</th>\n",
       "      <td>TASP25082006</td>\n",
       "      <td>Home Sweet Classroom Mug</td>\n",
       "      <td>You will receive: – 1 PNG file with transparen...</td>\n",
       "      <td>2.99</td>\n",
       "      <td>Crafts</td>\n",
       "      <td>classroom mug,teacher coffee mug,teacher mug g...</td>\n",
       "    </tr>\n",
       "    <tr>\n",
       "      <th>1</th>\n",
       "      <td>TASP25082005</td>\n",
       "      <td>Let Your Dreams Be Your Wings Mug</td>\n",
       "      <td>You will receive: – 1 PNG file with transparen...</td>\n",
       "      <td>2.99</td>\n",
       "      <td>Crafts</td>\n",
       "      <td>quote mug,positive saying mug, positive mug, F...</td>\n",
       "    </tr>\n",
       "  </tbody>\n",
       "</table>\n",
       "</div>"
      ],
      "text/plain": [
       "             ID                              title   \n",
       "0  TASP25082006           Home Sweet Classroom Mug  \\\n",
       "1  TASP25082005  Let Your Dreams Be Your Wings Mug   \n",
       "\n",
       "                                         description  Price Category   \n",
       "0  You will receive: – 1 PNG file with transparen...   2.99   Crafts  \\\n",
       "1  You will receive: – 1 PNG file with transparen...   2.99   Crafts   \n",
       "\n",
       "                                                 tag  \n",
       "0  classroom mug,teacher coffee mug,teacher mug g...  \n",
       "1  quote mug,positive saying mug, positive mug, F...  "
      ]
     },
     "execution_count": 22,
     "metadata": {},
     "output_type": "execute_result"
    }
   ],
   "source": [
    "data"
   ]
  },
  {
   "cell_type": "code",
   "execution_count": 23,
   "id": "d46c684f",
   "metadata": {},
   "outputs": [
    {
     "data": {
      "text/plain": [
       "'TASP25082006'"
      ]
     },
     "execution_count": 23,
     "metadata": {},
     "output_type": "execute_result"
    }
   ],
   "source": [
    "str(data.iloc[0,0])"
   ]
  },
  {
   "cell_type": "code",
   "execution_count": 24,
   "id": "fb00239a",
   "metadata": {},
   "outputs": [
    {
     "data": {
      "text/plain": [
       "(2, 6)"
      ]
     },
     "execution_count": 24,
     "metadata": {},
     "output_type": "execute_result"
    }
   ],
   "source": [
    "data.shape"
   ]
  },
  {
   "cell_type": "code",
   "execution_count": 25,
   "id": "aae1f7c9",
   "metadata": {},
   "outputs": [],
   "source": [
    "a = data.iloc[0, 2]"
   ]
  },
  {
   "cell_type": "code",
   "execution_count": 26,
   "id": "9c1e863a",
   "metadata": {},
   "outputs": [
    {
     "data": {
      "text/plain": [
       "['You will receive: ',\n",
       " ' 1 PNG file with transparent background, 300 DPI PLEASE NOTE ',\n",
       " ' This is not a .SVG file!']"
      ]
     },
     "execution_count": 26,
     "metadata": {},
     "output_type": "execute_result"
    }
   ],
   "source": [
    "a.split('–')"
   ]
  },
  {
   "cell_type": "code",
   "execution_count": 16,
   "id": "677f8f16",
   "metadata": {},
   "outputs": [
    {
     "ename": "AttributeError",
     "evalue": "'str' object has no attribute 'str'",
     "output_type": "error",
     "traceback": [
      "\u001b[0;31m---------------------------------------------------------------------------\u001b[0m",
      "\u001b[0;31mAttributeError\u001b[0m                            Traceback (most recent call last)",
      "Cell \u001b[0;32mIn[16], line 1\u001b[0m\n\u001b[0;32m----> 1\u001b[0m a\u001b[39m.\u001b[39;49mstr\u001b[39m.\u001b[39mreplace(\u001b[39m\"\u001b[39m\u001b[39m-\u001b[39m\u001b[39m\"\u001b[39m, \u001b[39m\"\u001b[39m\u001b[39m\\n\u001b[39;00m\u001b[39m-\u001b[39m\u001b[39m\"\u001b[39m)\n",
      "\u001b[0;31mAttributeError\u001b[0m: 'str' object has no attribute 'str'"
     ]
    }
   ],
   "source": [
    "a.str.replace(\"\", \"\\n-\")"
   ]
  },
  {
   "cell_type": "code",
   "execution_count": 30,
   "id": "a3cc35dc",
   "metadata": {},
   "outputs": [],
   "source": [
    "import random"
   ]
  },
  {
   "cell_type": "code",
   "execution_count": 60,
   "id": "322b9820",
   "metadata": {},
   "outputs": [
    {
     "data": {
      "text/plain": [
       "15"
      ]
     },
     "execution_count": 60,
     "metadata": {},
     "output_type": "execute_result"
    }
   ],
   "source": [
    "a = random.randint(10, 20)\n",
    "a"
   ]
  },
  {
   "cell_type": "code",
   "execution_count": 32,
   "id": "d7a0855f",
   "metadata": {},
   "outputs": [
    {
     "data": {
      "text/plain": [
       "15"
      ]
     },
     "execution_count": 32,
     "metadata": {},
     "output_type": "execute_result"
    }
   ],
   "source": [
    "a"
   ]
  },
  {
   "cell_type": "code",
   "execution_count": 61,
   "id": "b12658fc",
   "metadata": {},
   "outputs": [],
   "source": [
    "def a():\n",
    "    return"
   ]
  },
  {
   "cell_type": "code",
   "execution_count": 62,
   "id": "9de13c7f",
   "metadata": {},
   "outputs": [
    {
     "name": "stdout",
     "output_type": "stream",
     "text": [
      "a\n"
     ]
    }
   ],
   "source": [
    "print(a.__name__)"
   ]
  },
  {
   "cell_type": "code",
   "execution_count": null,
   "id": "12a7958d",
   "metadata": {},
   "outputs": [],
   "source": []
  }
 ],
 "metadata": {
  "kernelspec": {
   "display_name": "Python 3 (ipykernel)",
   "language": "python",
   "name": "python3"
  },
  "language_info": {
   "codemirror_mode": {
    "name": "ipython",
    "version": 3
   },
   "file_extension": ".py",
   "mimetype": "text/x-python",
   "name": "python",
   "nbconvert_exporter": "python",
   "pygments_lexer": "ipython3",
   "version": "3.10.6"
  }
 },
 "nbformat": 4,
 "nbformat_minor": 5
}
