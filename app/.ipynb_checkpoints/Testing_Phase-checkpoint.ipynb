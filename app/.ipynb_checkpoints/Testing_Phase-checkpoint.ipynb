{
 "cells": [
  {
   "cell_type": "code",
   "execution_count": 1,
   "id": "41a3c590",
   "metadata": {},
   "outputs": [],
   "source": [
    "import selenium"
   ]
  },
  {
   "cell_type": "code",
   "execution_count": 2,
   "id": "552bbc5d",
   "metadata": {},
   "outputs": [],
   "source": [
    "from selenium import webdriver\n",
    "\n",
    "from selenium.webdriver.firefox.service import Service\n",
    "from webdriver_manager.firefox import GeckoDriverManager\n",
    "from selenium.webdriver.common.by import By\n",
    "from selenium.webdriver.support.ui import WebDriverWait\n",
    "from selenium.webdriver.support import expected_conditions as EC\n",
    "from selenium.webdriver.common.keys import Keys\n",
    "import os\n",
    "import sys"
   ]
  },
  {
   "cell_type": "code",
   "execution_count": 3,
   "id": "34d6d79a",
   "metadata": {},
   "outputs": [
    {
     "data": {
      "text/plain": [
       "'/home/mickeyvu0811/Documents/MyProjects/UpLoadCreative/Upload_env/bin:/home/mickeyvu0811/.local/bin:/usr/local/sbin:/usr/local/bin:/usr/sbin:/usr/bin:/sbin:/bin:/usr/games:/usr/local/games:/snap/bin:/snap/bin'"
      ]
     },
     "execution_count": 3,
     "metadata": {},
     "output_type": "execute_result"
    }
   ],
   "source": [
    "os.environ.get('PATH')"
   ]
  },
  {
   "cell_type": "code",
   "execution_count": 8,
   "id": "b57f71c9",
   "metadata": {},
   "outputs": [
    {
     "ename": "AttributeError",
     "evalue": "module 'sys' has no attribute '_MEIPASS'",
     "output_type": "error",
     "traceback": [
      "\u001b[0;31m---------------------------------------------------------------------------\u001b[0m",
      "\u001b[0;31mAttributeError\u001b[0m                            Traceback (most recent call last)",
      "Cell \u001b[0;32mIn[8], line 1\u001b[0m\n\u001b[0;32m----> 1\u001b[0m \u001b[39mprint\u001b[39m(sys\u001b[39m.\u001b[39;49m_MEIPASS)\n",
      "\u001b[0;31mAttributeError\u001b[0m: module 'sys' has no attribute '_MEIPASS'"
     ]
    }
   ],
   "source": [
    "print(sys._MEIPASS)"
   ]
  },
  {
   "cell_type": "code",
   "execution_count": 21,
   "id": "63e25e1a",
   "metadata": {},
   "outputs": [],
   "source": [
    "# service = Service(executable_path=\"./driver/geckodriver\")\n",
    "install_dir = \"/snap/firefox/current/usr/lib/firefox\"\n",
    "driver_loc = os.path.join(install_dir, \"geckodriver\")\n",
    "binary_loc = os.path.join(install_dir, \"firefox\")\n",
    "\n",
    "service = Service(driver_loc)\n",
    "opts = webdriver.FirefoxOptions()\n",
    "opts.binary_location = binary_loc\n",
    "driver = webdriver.Firefox(service=service, options=opts)"
   ]
  },
  {
   "cell_type": "code",
   "execution_count": 22,
   "id": "9163f6e8",
   "metadata": {},
   "outputs": [],
   "source": [
    "driver.get(\"https://www.google.com/\")"
   ]
  },
  {
   "cell_type": "code",
   "execution_count": 4,
   "id": "7b82ea64",
   "metadata": {},
   "outputs": [],
   "source": [
    "# Chrome driver\n",
    "import time\n",
    "from selenium import webdriver\n",
    "from selenium.webdriver.chrome.options import Options\n",
    "from selenium.webdriver.chrome.service import Service\n",
    "from selenium.webdriver.common.by import By\n",
    "from selenium.webdriver.common.keys import Keys\n",
    "from webdriver_manager.chrome import ChromeDriverManager\n",
    "from selenium.webdriver.support import expected_conditions as EC"
   ]
  },
  {
   "cell_type": "code",
   "execution_count": 6,
   "id": "bf792a54",
   "metadata": {},
   "outputs": [],
   "source": [
    "options = Options()\n",
    "# options.add_argument(\"--headless=new\")\n",
    "\n",
    "options.page_load_strategy = 'normal'\n",
    "# options.add_argument('--no-sandbox')\n",
    "options.add_argument('--disable-dev-shm-usage')"
   ]
  },
  {
   "cell_type": "code",
   "execution_count": 7,
   "id": "aec32cb0",
   "metadata": {},
   "outputs": [],
   "source": [
    "browser = webdriver.Chrome(service=Service(ChromeDriverManager().install()), options=options)"
   ]
  },
  {
   "cell_type": "code",
   "execution_count": 11,
   "id": "dda40ce0",
   "metadata": {},
   "outputs": [],
   "source": [
    "browser.get('https://www.creativefabrica.com/login/')\n",
    "browser.implicitly_wait(10)"
   ]
  },
  {
   "cell_type": "code",
   "execution_count": null,
   "id": "b29a2e31",
   "metadata": {},
   "outputs": [],
   "source": [
    "# WebDriverWait(browser, 10).until(\n",
    "#     EC.presence_of_all_elements_located((By.PARTIAL_LINK_TEXT, 'Next page'))\n",
    "# )"
   ]
  },
  {
   "cell_type": "code",
   "execution_count": 12,
   "id": "e34422ee",
   "metadata": {},
   "outputs": [],
   "source": [
    "i_email = browser.find_element(By.XPATH, \"//input[@type='email']\")\n",
    "i_email.send_keys(\"equihuadino935632@gmail.com\")"
   ]
  },
  {
   "cell_type": "code",
   "execution_count": 13,
   "id": "743ad0cc",
   "metadata": {},
   "outputs": [],
   "source": [
    "i_pass = browser.find_element(By.XPATH, \"//input[@type='password']\")\n",
    "i_pass.send_keys(\"9ABXvC%T5s4aE\")"
   ]
  },
  {
   "cell_type": "code",
   "execution_count": 14,
   "id": "bb711138",
   "metadata": {},
   "outputs": [],
   "source": [
    "b_submit = browser.find_element(By.XPATH, \"//button[@type='submit']\")\n",
    "b_submit.send_keys(Keys.ENTER)"
   ]
  },
  {
   "cell_type": "code",
   "execution_count": 15,
   "id": "f9496350",
   "metadata": {},
   "outputs": [],
   "source": [
    "b_cancle = browser.find_element(By.XPATH, \"//button[@id='onesignal-slidedown-cancel-button']\")\n",
    "b_cancle.send_keys(Keys.ENTER)"
   ]
  },
  {
   "cell_type": "code",
   "execution_count": 16,
   "id": "3a7b47db",
   "metadata": {},
   "outputs": [
    {
     "data": {
      "text/plain": [
       "'My Account - Creative Fabrica'"
      ]
     },
     "execution_count": 16,
     "metadata": {},
     "output_type": "execute_result"
    }
   ],
   "source": [
    "browser.title"
   ]
  },
  {
   "cell_type": "code",
   "execution_count": 18,
   "id": "b39a5adf",
   "metadata": {},
   "outputs": [],
   "source": [
    "l_addGrapic = browser.find_element(By.LINK_TEXT, \"Add Graphic\")"
   ]
  },
  {
   "cell_type": "code",
   "execution_count": 19,
   "id": "08bbf779",
   "metadata": {},
   "outputs": [],
   "source": [
    "l_addGrapic.click()"
   ]
  },
  {
   "cell_type": "code",
   "execution_count": 20,
   "id": "91aea9f5",
   "metadata": {},
   "outputs": [],
   "source": [
    "# Input product name\n",
    "i_productName = browser.find_element(By.XPATH, \"//input[@id='title'][@name='title']\")"
   ]
  },
  {
   "cell_type": "code",
   "execution_count": 26,
   "id": "5ccbd877",
   "metadata": {},
   "outputs": [],
   "source": [
    "i_productName.send_keys(\"Product Name\")"
   ]
  },
  {
   "cell_type": "code",
   "execution_count": 22,
   "id": "2556a53f",
   "metadata": {},
   "outputs": [],
   "source": [
    "# Input category\n",
    "i_category = browser.find_element(By.XPATH, \"//span[@role='combobox']\")"
   ]
  },
  {
   "cell_type": "code",
   "execution_count": 24,
   "id": "7fd4b474",
   "metadata": {},
   "outputs": [],
   "source": [
    "i_category.click()"
   ]
  },
  {
   "cell_type": "code",
   "execution_count": 25,
   "id": "c746f35f",
   "metadata": {},
   "outputs": [],
   "source": [
    "i_categoryInput = browser.find_element(By.XPATH, \"//input[@type='search']\")"
   ]
  },
  {
   "cell_type": "code",
   "execution_count": 27,
   "id": "fd516945",
   "metadata": {},
   "outputs": [],
   "source": [
    "i_categoryInput.send_keys(\"Crafts\")"
   ]
  },
  {
   "cell_type": "code",
   "execution_count": 32,
   "id": "c94aa9e9",
   "metadata": {},
   "outputs": [],
   "source": [
    "# do this\n",
    "li_categoryInput = browser.find_elements(By.XPATH, \"//li[@role='treeitem']\")"
   ]
  },
  {
   "cell_type": "code",
   "execution_count": 33,
   "id": "75a4b027",
   "metadata": {},
   "outputs": [
    {
     "data": {
      "text/plain": [
       "[<selenium.webdriver.remote.webelement.WebElement (session=\"350bf44bb5a22756128bc28656273806\", element=\"ec490f7e-15a7-463a-b2f0-db13b1b3e4bc\")>,\n",
       " <selenium.webdriver.remote.webelement.WebElement (session=\"350bf44bb5a22756128bc28656273806\", element=\"58d16648-f513-4dcb-9ce5-a63d5310ef35\")>]"
      ]
     },
     "execution_count": 33,
     "metadata": {},
     "output_type": "execute_result"
    }
   ],
   "source": [
    "li_categoryInput"
   ]
  },
  {
   "cell_type": "code",
   "execution_count": 28,
   "id": "6ada990d",
   "metadata": {},
   "outputs": [],
   "source": [
    "# Or\n",
    "i_categoryInput.send_keys(Keys.ENTER)"
   ]
  },
  {
   "cell_type": "code",
   "execution_count": 34,
   "id": "4205bc7b",
   "metadata": {},
   "outputs": [],
   "source": [
    "# Input Price\n",
    "i_price = browser.find_element(By.XPATH, \"//input[@id='price'][@name='price']\")"
   ]
  },
  {
   "cell_type": "code",
   "execution_count": 35,
   "id": "19db975e",
   "metadata": {},
   "outputs": [],
   "source": [
    "i_price.send_keys(\"3\")"
   ]
  },
  {
   "cell_type": "code",
   "execution_count": 36,
   "id": "828f33c8",
   "metadata": {},
   "outputs": [],
   "source": [
    "# Input Description\n",
    "i_description = browser.find_element(By.XPATH, \"//textarea[@name='description'][@id='description']\")"
   ]
  },
  {
   "cell_type": "code",
   "execution_count": 37,
   "id": "dd908997",
   "metadata": {},
   "outputs": [],
   "source": [
    "i_description.send_keys(\"aklasdjfaslkdfasjkflaskdjfhlaksjh\")"
   ]
  },
  {
   "cell_type": "code",
   "execution_count": 41,
   "id": "e6036d90",
   "metadata": {},
   "outputs": [],
   "source": [
    "# Input Product Tags\n",
    "i_productTag = browser.find_element(By.XPATH, \"//input[@name='tags'][@id='tags']\")"
   ]
  },
  {
   "cell_type": "code",
   "execution_count": 45,
   "id": "28ff6fcc",
   "metadata": {},
   "outputs": [],
   "source": [
    "i_productTag = browser.find_element(By.XPATH, \"//div[@class='bootstrap-tagsinput']/input[@type='text']\")\n"
   ]
  },
  {
   "cell_type": "code",
   "execution_count": 51,
   "id": "cbc43788",
   "metadata": {},
   "outputs": [],
   "source": [
    "i_productTag.send_keys(\"A\" + Keys.ENTER)"
   ]
  },
  {
   "cell_type": "code",
   "execution_count": 52,
   "id": "46aa8a59",
   "metadata": {},
   "outputs": [],
   "source": [
    "i_productTag.send_keys(\"B\" + Keys.ENTER)"
   ]
  },
  {
   "cell_type": "code",
   "execution_count": 53,
   "id": "14ed8228",
   "metadata": {},
   "outputs": [],
   "source": [
    "i_productTag.send_keys(\"E\" + Keys.ENTER)"
   ]
  },
  {
   "cell_type": "code",
   "execution_count": 56,
   "id": "d35e9c48",
   "metadata": {},
   "outputs": [],
   "source": [
    "u_Buttons = browser.find_elements(By.XPATH, \"//div[@class='fileuploader-input-button']\")"
   ]
  },
  {
   "cell_type": "code",
   "execution_count": 58,
   "id": "8f410e28",
   "metadata": {},
   "outputs": [
    {
     "data": {
      "text/plain": [
       "'Drag and Drop files here or Browse Files'"
      ]
     },
     "execution_count": 58,
     "metadata": {},
     "output_type": "execute_result"
    }
   ],
   "source": [
    "u_Buttons[0].text"
   ]
  },
  {
   "cell_type": "code",
   "execution_count": 59,
   "id": "fcb99dfa",
   "metadata": {},
   "outputs": [
    {
     "data": {
      "text/plain": [
       "'Drag and Drop files here or Browse Files'"
      ]
     },
     "execution_count": 59,
     "metadata": {},
     "output_type": "execute_result"
    }
   ],
   "source": [
    "u_Buttons[1].text"
   ]
  },
  {
   "cell_type": "code",
   "execution_count": 60,
   "id": "9c7a3d01",
   "metadata": {},
   "outputs": [],
   "source": [
    "# Upload Product Images\n",
    "\n",
    "u_productImages = u_Buttons[0]"
   ]
  },
  {
   "cell_type": "code",
   "execution_count": 79,
   "id": "8a9a9bb1",
   "metadata": {},
   "outputs": [],
   "source": [
    "# This method needs to loop each time we upload one picture\n",
    "u_productImages = browser.find_element(By.XPATH, \"//input[@type='file'][@name='product_images[]']\")"
   ]
  },
  {
   "cell_type": "code",
   "execution_count": 80,
   "id": "c2fd59fc",
   "metadata": {},
   "outputs": [],
   "source": [
    "u_productImages.send_keys('/home/mickeyvu0811/Downloads/images/95327839_3254238011293902_6515005431394336768_n.jpg')"
   ]
  },
  {
   "cell_type": "code",
   "execution_count": 85,
   "id": "aa679f6c",
   "metadata": {},
   "outputs": [],
   "source": [
    "# pop-ups windows\n",
    "alert = browser.switch_to.alert\n",
    "alert.accept()"
   ]
  },
  {
   "cell_type": "code",
   "execution_count": 78,
   "id": "6bb5dc62",
   "metadata": {},
   "outputs": [],
   "source": [
    "u_productImages.send_keys('/home/mickeyvu0811/Downloads/images/FthbhOCXgAs0mcX.jpg')"
   ]
  },
  {
   "cell_type": "code",
   "execution_count": 61,
   "id": "5ad73b1b",
   "metadata": {},
   "outputs": [],
   "source": []
  },
  {
   "cell_type": "code",
   "execution_count": 88,
   "id": "cf919875",
   "metadata": {},
   "outputs": [],
   "source": [
    "# Upload Product Files (zip)\n",
    "u_productFileZip = browser.find_element(By.XPATH, \"//input[@type='file'][@name='product_files']\")"
   ]
  },
  {
   "cell_type": "code",
   "execution_count": 89,
   "id": "f0ed150c",
   "metadata": {},
   "outputs": [],
   "source": [
    "u_productFileZip.send_keys('/home/mickeyvu0811/Downloads/audio Listening 2 Final handout.zip')"
   ]
  },
  {
   "cell_type": "code",
   "execution_count": 64,
   "id": "05f2feff",
   "metadata": {},
   "outputs": [],
   "source": []
  },
  {
   "cell_type": "code",
   "execution_count": 90,
   "id": "4aac58ee",
   "metadata": {},
   "outputs": [],
   "source": [
    "# Checkbox Discount detail\n",
    "i_discountDetail = browser.find_element(By.XPATH, \"//input[@type='checkbox'][@name='in_discount_deals']\")"
   ]
  },
  {
   "cell_type": "code",
   "execution_count": 91,
   "id": "ebf954b9",
   "metadata": {},
   "outputs": [],
   "source": [
    "i_discountDetail.click()"
   ]
  },
  {
   "cell_type": "code",
   "execution_count": 92,
   "id": "84c81569",
   "metadata": {},
   "outputs": [],
   "source": [
    "# Checkbox Pick n Mix\n",
    "i_pickNMix = browser.find_element(By.XPATH, \"//input[@type='checkbox'][@name='in_byob']\")"
   ]
  },
  {
   "cell_type": "code",
   "execution_count": 93,
   "id": "b30cfc59",
   "metadata": {},
   "outputs": [],
   "source": [
    "i_pickNMix.click()"
   ]
  },
  {
   "cell_type": "code",
   "execution_count": 100,
   "id": "6dc59de8",
   "metadata": {},
   "outputs": [],
   "source": [
    "# Checkbox Term and Conditions\n",
    "i_termNCond = browser.find_element(By.XPATH, \"//ins[@class='iCheck-helper']\")"
   ]
  },
  {
   "cell_type": "code",
   "execution_count": 101,
   "id": "a144a3f6",
   "metadata": {},
   "outputs": [],
   "source": [
    "i_termNCond.click()"
   ]
  },
  {
   "cell_type": "code",
   "execution_count": null,
   "id": "28cc5646",
   "metadata": {},
   "outputs": [],
   "source": [
    "# click submit form\n",
    "b_submit = browser.find_element(By.XPATH, \"//button[@type='submit'][@name='submitbutton']\")\n"
   ]
  },
  {
   "cell_type": "code",
   "execution_count": null,
   "id": "f14c6daa",
   "metadata": {},
   "outputs": [],
   "source": [
    "b_submit.send_keys(Keys.ENTER)"
   ]
  },
  {
   "cell_type": "code",
   "execution_count": 102,
   "id": "620d8180",
   "metadata": {},
   "outputs": [],
   "source": [
    "browser.quit()"
   ]
  },
  {
   "cell_type": "code",
   "execution_count": null,
   "id": "68e65c10",
   "metadata": {},
   "outputs": [],
   "source": [
    "# Just in case we need to enter\n",
    "i_opt = browser.find_element(By.XPATH, \"//input[@name='otp']\")"
   ]
  },
  {
   "cell_type": "code",
   "execution_count": null,
   "id": "f3f93cf9",
   "metadata": {},
   "outputs": [],
   "source": [
    "time.sleep(10)\n",
    "driver.close()"
   ]
  }
 ],
 "metadata": {
  "kernelspec": {
   "display_name": "Python 3 (ipykernel)",
   "language": "python",
   "name": "python3"
  },
  "language_info": {
   "codemirror_mode": {
    "name": "ipython",
    "version": 3
   },
   "file_extension": ".py",
   "mimetype": "text/x-python",
   "name": "python",
   "nbconvert_exporter": "python",
   "pygments_lexer": "ipython3",
   "version": "3.10.6"
  }
 },
 "nbformat": 4,
 "nbformat_minor": 5
}
